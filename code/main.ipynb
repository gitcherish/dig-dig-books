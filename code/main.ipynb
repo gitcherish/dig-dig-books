{
 "cells": [
  {
   "cell_type": "markdown",
   "metadata": {},
   "source": [
    "# 0. 开始工作"
   ]
  },
  {
   "cell_type": "markdown",
   "metadata": {},
   "source": [
    "\n",
    "## 0.1 Tips\n",
    "> 一些小技巧放这里吧(标题是可以折叠的(vscode 下))\n",
    "- 编辑模式下(注意看框是绿色的,你可以往格子里码字)\n",
    "    - 使用 ctrl + Enter 执行当前单元格的代码\n",
    "    - 使用 Alt + Enter 执行当前单元格的代码并向下新建新的单元格\n",
    "    - 使用ESC 进入命令模式\n",
    "- 命令模式下(注意看框是蓝色的,你不可以往格子里码字)\n",
    "    - B 当前单元格下增加单元格\n",
    "    - A 当前单元格上增加单元格\n",
    "    - 使用 Enter 进入编辑模式\n",
    "- 编辑模式和命令模式通用\n",
    "    - ctrl + z 撤回\n",
    "    - ctrl + y 恢复\n",
    "    - ctrl + c / v 复制粘贴"
   ]
  },
  {
   "cell_type": "markdown",
   "metadata": {},
   "source": [
    "## 0.2 要说明的重要事项可以放这里\n",
    "- 事件1\n",
    "- ....."
   ]
  },
  {
   "cell_type": "markdown",
   "metadata": {},
   "source": [
    "# 1. 导入数据"
   ]
  },
  {
   "cell_type": "code",
   "execution_count": 18,
   "metadata": {},
   "outputs": [],
   "source": [
    "# ! 必须\n",
    "import pandas as pd\n",
    "data_train = pd.read_csv(\"../dataset/train.csv\")\n",
    "data_test = pd.read_csv(\"../dataset/test.csv\")\n",
    "data_children = pd.read_csv(\"../dataset/Children.csv\")"
   ]
  },
  {
   "cell_type": "code",
   "execution_count": 19,
   "metadata": {},
   "outputs": [
    {
     "data": {
      "text/html": [
       "<div>\n",
       "<style scoped>\n",
       "    .dataframe tbody tr th:only-of-type {\n",
       "        vertical-align: middle;\n",
       "    }\n",
       "\n",
       "    .dataframe tbody tr th {\n",
       "        vertical-align: top;\n",
       "    }\n",
       "\n",
       "    .dataframe thead th {\n",
       "        text-align: right;\n",
       "    }\n",
       "</style>\n",
       "<table border=\"1\" class=\"dataframe\">\n",
       "  <thead>\n",
       "    <tr style=\"text-align: right;\">\n",
       "      <th></th>\n",
       "      <th>category</th>\n",
       "      <th>text</th>\n",
       "      <th>label</th>\n",
       "      <th>node_id</th>\n",
       "      <th>neighbour</th>\n",
       "    </tr>\n",
       "  </thead>\n",
       "  <tbody>\n",
       "    <tr>\n",
       "      <th>0</th>\n",
       "      <td>Literature &amp; Fiction</td>\n",
       "      <td>Description: Collection of Poetry; Title: The ...</td>\n",
       "      <td>0.0</td>\n",
       "      <td>0</td>\n",
       "      <td>[5472, 14293, 15164, 26542, 33933]</td>\n",
       "    </tr>\n",
       "    <tr>\n",
       "      <th>1</th>\n",
       "      <td>Literature &amp; Fiction</td>\n",
       "      <td>Description: Pop-up book; Title: Pop-Up Book :...</td>\n",
       "      <td>0.0</td>\n",
       "      <td>1</td>\n",
       "      <td>[20853, 20879]</td>\n",
       "    </tr>\n",
       "    <tr>\n",
       "      <th>2</th>\n",
       "      <td>Literature &amp; Fiction</td>\n",
       "      <td>Description: Very good condition, hardly any w...</td>\n",
       "      <td>0.0</td>\n",
       "      <td>2</td>\n",
       "      <td>[84]</td>\n",
       "    </tr>\n",
       "    <tr>\n",
       "      <th>3</th>\n",
       "      <td>Literature &amp; Fiction</td>\n",
       "      <td>Description: Childrens illustrated story inclu...</td>\n",
       "      <td>0.0</td>\n",
       "      <td>3</td>\n",
       "      <td>[14558]</td>\n",
       "    </tr>\n",
       "    <tr>\n",
       "      <th>4</th>\n",
       "      <td>Animals</td>\n",
       "      <td>Description: &amp;#8220;Soft pastel illustrations ...</td>\n",
       "      <td>1.0</td>\n",
       "      <td>4</td>\n",
       "      <td>[73]</td>\n",
       "    </tr>\n",
       "    <tr>\n",
       "      <th>...</th>\n",
       "      <td>...</td>\n",
       "      <td>...</td>\n",
       "      <td>...</td>\n",
       "      <td>...</td>\n",
       "      <td>...</td>\n",
       "    </tr>\n",
       "    <tr>\n",
       "      <th>76870</th>\n",
       "      <td>Literature &amp; Fiction</td>\n",
       "      <td>Description: In its mother's womb, a tiny baby...</td>\n",
       "      <td>0.0</td>\n",
       "      <td>76870</td>\n",
       "      <td>[4513, 5366, 8297, 10774, 16299, 27220, 28565,...</td>\n",
       "    </tr>\n",
       "    <tr>\n",
       "      <th>76871</th>\n",
       "      <td>Growing Up &amp; Facts of Life</td>\n",
       "      <td>Description: In Harry Potter and the Goblet of...</td>\n",
       "      <td>2.0</td>\n",
       "      <td>76871</td>\n",
       "      <td>[16969, 17068, 17307, 51129, 51263]</td>\n",
       "    </tr>\n",
       "    <tr>\n",
       "      <th>76872</th>\n",
       "      <td>Literature &amp; Fiction</td>\n",
       "      <td>Description: Enjoy the adventures of magic ani...</td>\n",
       "      <td>0.0</td>\n",
       "      <td>76872</td>\n",
       "      <td>[2868, 18754, 18758, 18760, 18763, 18765, 1876...</td>\n",
       "    </tr>\n",
       "    <tr>\n",
       "      <th>76873</th>\n",
       "      <td>Activities, Crafts &amp; Games</td>\n",
       "      <td>Description: Marion Puech is a French illustra...</td>\n",
       "      <td>6.0</td>\n",
       "      <td>76873</td>\n",
       "      <td>[42087]</td>\n",
       "    </tr>\n",
       "    <tr>\n",
       "      <th>76874</th>\n",
       "      <td>Cars, Trains &amp; Things That Go</td>\n",
       "      <td>Description: Marie Fordacq is a co-founder Edi...</td>\n",
       "      <td>4.0</td>\n",
       "      <td>76874</td>\n",
       "      <td>[45219, 55024, 76849]</td>\n",
       "    </tr>\n",
       "  </tbody>\n",
       "</table>\n",
       "<p>76875 rows × 5 columns</p>\n",
       "</div>"
      ],
      "text/plain": [
       "                            category  \\\n",
       "0               Literature & Fiction   \n",
       "1               Literature & Fiction   \n",
       "2               Literature & Fiction   \n",
       "3               Literature & Fiction   \n",
       "4                            Animals   \n",
       "...                              ...   \n",
       "76870           Literature & Fiction   \n",
       "76871     Growing Up & Facts of Life   \n",
       "76872           Literature & Fiction   \n",
       "76873     Activities, Crafts & Games   \n",
       "76874  Cars, Trains & Things That Go   \n",
       "\n",
       "                                                    text  label  node_id  \\\n",
       "0      Description: Collection of Poetry; Title: The ...    0.0        0   \n",
       "1      Description: Pop-up book; Title: Pop-Up Book :...    0.0        1   \n",
       "2      Description: Very good condition, hardly any w...    0.0        2   \n",
       "3      Description: Childrens illustrated story inclu...    0.0        3   \n",
       "4      Description: &#8220;Soft pastel illustrations ...    1.0        4   \n",
       "...                                                  ...    ...      ...   \n",
       "76870  Description: In its mother's womb, a tiny baby...    0.0    76870   \n",
       "76871  Description: In Harry Potter and the Goblet of...    2.0    76871   \n",
       "76872  Description: Enjoy the adventures of magic ani...    0.0    76872   \n",
       "76873  Description: Marion Puech is a French illustra...    6.0    76873   \n",
       "76874  Description: Marie Fordacq is a co-founder Edi...    4.0    76874   \n",
       "\n",
       "                                               neighbour  \n",
       "0                     [5472, 14293, 15164, 26542, 33933]  \n",
       "1                                         [20853, 20879]  \n",
       "2                                                   [84]  \n",
       "3                                                [14558]  \n",
       "4                                                   [73]  \n",
       "...                                                  ...  \n",
       "76870  [4513, 5366, 8297, 10774, 16299, 27220, 28565,...  \n",
       "76871                [16969, 17068, 17307, 51129, 51263]  \n",
       "76872  [2868, 18754, 18758, 18760, 18763, 18765, 1876...  \n",
       "76873                                            [42087]  \n",
       "76874                              [45219, 55024, 76849]  \n",
       "\n",
       "[76875 rows x 5 columns]"
      ]
     },
     "execution_count": 19,
     "metadata": {},
     "output_type": "execute_result"
    }
   ],
   "source": [
    "data_train\n",
    "data_test\n",
    "data_children"
   ]
  },
  {
   "cell_type": "markdown",
   "metadata": {},
   "source": [
    "# 2.数据预处理"
   ]
  },
  {
   "cell_type": "code",
   "execution_count": 1,
   "metadata": {},
   "outputs": [
    {
     "data": {
      "text/plain": [
       "' 不需要分割了,请忽视这个代码\\n# ! 必须\\n\"\"\"\\n    这段代码是分隔原本的text为Title 和 Description\\n\"\"\"\\ndef extract_title_and_description(text):\\n    segments = text.split(\";\")\\n    title = \"\"\\n    description = \"\"\\n    for segment in segments:\\n        if \"Title:\" in segment:\\n            title = segment.replace(\"Title:\", \"\").strip()\\n        elif \"Description:\" in segment:\\n            description = segment.replace(\"Description:\", \"\").strip()\\n    return title, description\\n\\n# 创建新的列来存储标题和描述\\ndata_train[\\'Title\\'], data_train[\\'Description\\'] = zip(*data_train[\\'text\\'].apply(extract_title_and_description))\\ndata_test[\\'Title\\'], data_test[\\'Description\\'] = zip(*data_test[\\'text\\'].apply(extract_title_and_description))\\ndata_children[\\'Title\\'], data_children[\\'Description\\'] = zip(*data_children[\\'text\\'].apply(extract_title_and_description))\\n# ? text是否删除看需求\\ndata_train.drop(\"text\",axis =1 ,inplace =True)\\ndata_test.drop(\"text\",axis =1 ,inplace =True)\\ndata_children.drop(\"text\",axis =1 ,inplace =True)\\n'"
      ]
     },
     "execution_count": 1,
     "metadata": {},
     "output_type": "execute_result"
    }
   ],
   "source": [
    "''' 不需要分割了,请忽视这个代码\n",
    "# ! 必须\n",
    "\"\"\"\n",
    "    这段代码是分隔原本的text为Title 和 Description\n",
    "\"\"\"\n",
    "def extract_title_and_description(text):\n",
    "    segments = text.split(\";\")\n",
    "    title = \"\"\n",
    "    description = \"\"\n",
    "    for segment in segments:\n",
    "        if \"Title:\" in segment:\n",
    "            title = segment.replace(\"Title:\", \"\").strip()\n",
    "        elif \"Description:\" in segment:\n",
    "            description = segment.replace(\"Description:\", \"\").strip()\n",
    "    return title, description\n",
    "\n",
    "# 创建新的列来存储标题和描述\n",
    "data_train['Title'], data_train['Description'] = zip(*data_train['text'].apply(extract_title_and_description))\n",
    "data_test['Title'], data_test['Description'] = zip(*data_test['text'].apply(extract_title_and_description))\n",
    "data_children['Title'], data_children['Description'] = zip(*data_children['text'].apply(extract_title_and_description))\n",
    "# ? text是否删除看需求\n",
    "data_train.drop(\"text\",axis =1 ,inplace =True)\n",
    "data_test.drop(\"text\",axis =1 ,inplace =True)\n",
    "data_children.drop(\"text\",axis =1 ,inplace =True)\n",
    "'''"
   ]
  },
  {
   "cell_type": "code",
   "execution_count": 21,
   "metadata": {},
   "outputs": [],
   "source": [
    "# 将修改后的 DataFrame 保存为 CSV 文件\n",
    "data_train.to_csv(\"../dataset/modified_train.csv\", index=False)\n",
    "data_test.to_csv(\"../dataset/modified_test.csv\", index=False)\n",
    "data_children.to_csv(\"../dataset/modified_children.csv\", index=False)"
   ]
  }
 ],
 "metadata": {
  "kernelspec": {
   "display_name": "Python 3 (ipykernel)",
   "language": "python",
   "name": "python3"
  },
  "language_info": {
   "codemirror_mode": {
    "name": "ipython",
    "version": 3
   },
   "file_extension": ".py",
   "mimetype": "text/x-python",
   "name": "python",
   "nbconvert_exporter": "python",
   "pygments_lexer": "ipython3",
   "version": "3.9.18"
  }
 },
 "nbformat": 4,
 "nbformat_minor": 2
}
